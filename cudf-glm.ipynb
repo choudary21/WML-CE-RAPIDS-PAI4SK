{
 "cells": [
  {
   "cell_type": "markdown",
   "metadata": {},
   "source": [
    "<h1><center>Generalized Linear Models Using pai4sk and cudf</center></h1>\n",
    "\n",
    "\n",
    "In this example, we will train Logistic Regression, Ridge Regression, Lasso Regression and Support Vector Machine models on the epsilon dataset, using cuDF dataframe on both `scikit-learn` and `pai4sk`. \n",
    "\n",
    "\n",
    "The epsilon dataset is from the [PASCAL Large Scale Learning Challenge](http://www.k4all.org/project/large-scale-learning-challenge/). \n",
    "\n",
    "We will load epsilon dataset into pandas dataframes and convert into RAPIDS dataframes. Then, we train a Logistic Regression model using both pai4sk and scikit-learn. Update device_ids list in LogisticRegression of snap_ml based on the number of GPUs available for you."
   ]
  },
  {
   "cell_type": "markdown",
   "metadata": {},
   "source": [
    "### Imports"
   ]
  },
  {
   "cell_type": "code",
   "execution_count": 1,
   "metadata": {},
   "outputs": [],
   "source": [
    "import time\n",
    "import numpy as np\n",
    "import sys\n",
    "import argparse\n",
    "import pandas as pd\n",
    "\n",
    "import cudf\n",
    "from cudf.dataframe import DataFrame\n",
    "from sklearn.datasets import load_svmlight_file\n",
    "\n",
    "defaultPath = \".\""
   ]
  },
  {
   "cell_type": "markdown",
   "metadata": {},
   "source": [
    "### Download input dataset into pandas dataframes\n",
    "\n",
    "Two wget commands are given below for downloading input dataset. The training and testing dataset is only a small fraction of the actual dataset for quick demonstration. Many times better perfomance of snapML training is seen with bigger dataset.\n",
    "\n",
    "You can uncomment the downloading code below if you need to download the actual data."
   ]
  },
  {
   "cell_type": "code",
   "execution_count": 2,
   "metadata": {},
   "outputs": [],
   "source": [
    "#Download the data file\n",
    "#!mkdir data\n",
    "#!cd data\n",
    "#!wget https://www.csie.ntu.edu.tw/~cjlin/libsvmtools/datasets/binary/epsilon_normalized.bz2\n",
    "#!bunzip2 epsilon_normalized.bz2\n",
    "#!cd ../\n",
    "\n",
    "#X,y = load_svmlight_file(\"./data/epsilon_normalized\")\n",
    "\n",
    "# Make the train-test split\n",
    "#from sklearn.model_selection import train_test_split\n",
    "#X_train, X_test, y_train, y_test = train_test_split(X, y, train_size = 0.1, test_size=0.05, random_state=42)\n",
    "\n",
    "# Convert to dense\n",
    "#X_train = np.array(X_train.todense())\n",
    "#X_test  = np.array(X_test.todense())\n",
    "\n",
    "# Write to binary numpy files\n",
    "#np.save(\"./data/epsilon.X_train\", X_train)\n",
    "#np.save(\"./data/epsilon.X_test\",  X_test)\n",
    "#np.save(\"./data/epsilon.y_train\", y_train)\n",
    "#np.save(\"./data/epsilon.y_test\",  y_test)\n",
    "\n",
    "ytrain = np.load('./data/epsilon.y_train.npy')\n",
    "ytest = np.load('./data/epsilon.y_test.npy')\n",
    "Xtrain = np.load('./data/epsilon.X_train.npy')\n",
    "Xtest = np.load('./data/epsilon.X_test.npy')\n",
    "\n",
    "pdf_trainX = pd.DataFrame(Xtrain, dtype=np.float32)\n",
    "pdf_testX = pd.DataFrame(Xtest, dtype=np.float32)\n",
    "pdf_trainY = pd.DataFrame(ytrain, dtype=np.float32)\n",
    "pdf_testY = pd.DataFrame(ytest, dtype=np.float32)"
   ]
  },
  {
   "cell_type": "markdown",
   "metadata": {},
   "source": [
    "### Convert pandas dataframes into cudf dataframes"
   ]
  },
  {
   "cell_type": "code",
   "execution_count": 3,
   "metadata": {},
   "outputs": [],
   "source": [
    "df_trainX = DataFrame.from_pandas(pdf_trainX)\n",
    "df_trainY = DataFrame.from_pandas(pdf_trainY)\n",
    "\n",
    "# ndarray data used for training (for sklearn case)\n",
    "# Converting to C-contiguous ndarray\n",
    "X_train_ndarray = np.ascontiguousarray(pdf_trainX.values)\n",
    "y_train_ndarray = np.ascontiguousarray(pdf_trainY.values)\n",
    "\n",
    "# data used for training\n",
    "# Converting to C-contiguous DeviceNDArray\n",
    "X_train = copy_as_gpu_cmatrix(df_trainX)\n",
    "y_train = copy_as_gpu_cmatrix(df_trainY)\n",
    "\n",
    "#data used for inferencing\n",
    "# Converting to C-contiguous ndarray\n",
    "X_test = np.ascontiguousarray(pdf_testX.values)\n",
    "y_test = np.ascontiguousarray(pdf_testY.values)"
   ]
  },
  {
   "cell_type": "markdown",
   "metadata": {},
   "source": [
    "### Logistic Regression in pai4sk with primal formulation"
   ]
  },
  {
   "cell_type": "code",
   "execution_count": 4,
   "metadata": {},
   "outputs": [
    {
     "name": "stdout",
     "output_type": "stream",
     "text": [
      "[pai4sk] Training time (s) with pai4sk primal formulation:  0.26\n",
      "[pai4sk] Average Precision Score :   0.8437\n"
     ]
    }
   ],
   "source": [
    "num_threads = 256\n",
    "\n",
    "# Create a LogisticRegression from pai4sk\n",
    "from pai4sk import LogisticRegression\n",
    "\n",
    "#primal formulation (dual - False)\n",
    "lr = LogisticRegression(use_gpu=True, device_ids=[0],\n",
    "                        num_threads=num_threads, class_weight=None,\n",
    "                        fit_intercept=False, regularizer=100, dual=False)\n",
    "# Training\n",
    "t0 = time.time()\n",
    "lr.fit(X_train, y_train)\n",
    "print(\"[pai4sk] Training time (s) with pai4sk primal formulation:  {:.2f}\".format(time.time()-t0))\n",
    "\n",
    "# Evaluate log-loss on test set\n",
    "pred = lr.predict_proba(X_test)[:,1]\n",
    "\n",
    "from sklearn.metrics import average_precision_score\n",
    "acc_snap = average_precision_score(y_test, pred)\n",
    "print(\"[pai4sk] Average Precision Score :   {:.4f}\".format(acc_snap))"
   ]
  },
  {
   "cell_type": "markdown",
   "metadata": {},
   "source": [
    "### Logistic Regression in pai4sk with dual formulation"
   ]
  },
  {
   "cell_type": "code",
   "execution_count": 5,
   "metadata": {},
   "outputs": [
    {
     "name": "stdout",
     "output_type": "stream",
     "text": [
      "[pai4sk] Training time (s) with pai4sk dual formulation:  0.09\n",
      "[pai4sk] Average Precision Score :   0.8443\n"
     ]
    }
   ],
   "source": [
    "from pai4sk import LogisticRegression\n",
    "\n",
    "#dual formulation\n",
    "lr = LogisticRegression(use_gpu=True, device_ids=[0],\n",
    "                        num_threads=num_threads, class_weight=None,\n",
    "                        fit_intercept=False, regularizer=100, dual=True)\n",
    "# Training\n",
    "t0 = time.time()\n",
    "lr.fit(X_train_ndarray, y_train_ndarray)\n",
    "print(\"[pai4sk] Training time (s) with pai4sk dual formulation:  {:.2f}\".format(time.time()-t0))\n",
    "\n",
    "\n",
    "# Evaluate log-loss on test set\n",
    "pred = lr.predict_proba(X_test)[:,1]\n",
    "\n",
    "from pai4sk.metrics import average_precision_score\n",
    "acc_snap = average_precision_score(y_test, pred)\n",
    "print(\"[pai4sk] Average Precision Score :   {:.4f}\".format(acc_snap))"
   ]
  },
  {
   "cell_type": "markdown",
   "metadata": {},
   "source": [
    "### Logistic Regression with Scikit-Learn (no native GPU support)"
   ]
  },
  {
   "cell_type": "code",
   "execution_count": 6,
   "metadata": {},
   "outputs": [
    {
     "name": "stderr",
     "output_type": "stream",
     "text": [
      "/mnt/pai/home/choudary/anaconda3/envs/powerai_env2/lib/python3.6/site-packages/pai4sk/linear_model/logistic.py:433: FutureWarning: Default solver will be changed to 'lbfgs' in 0.22. Specify a solver to silence this warning.\n",
      "  FutureWarning)\n",
      "/mnt/pai/home/choudary/anaconda3/envs/powerai_env2/lib/python3.6/site-packages/pai4sk/utils/validation.py:761: DataConversionWarning: A column-vector y was passed when a 1d array was expected. Please change the shape of y to (n_samples, ), for example using ravel().\n",
      "  y = column_or_1d(y, warn=True)\n"
     ]
    },
    {
     "name": "stdout",
     "output_type": "stream",
     "text": [
      "[sklearn] Training time (s) with scikit-learn (no GPU support):  2.35\n",
      "[sklearn] Average Precision Score :   0.8442\n"
     ]
    }
   ],
   "source": [
    "# Import sklearn's LogisticRegression from pai4sk module directly\n",
    "from pai4sk.linear_model import LogisticRegressionSklearn as LogisticRegression\n",
    "lr = LogisticRegression(fit_intercept=False, dual=True, tol=0.001,\n",
    "                        class_weight=None, random_state=42, C=1.0/100)\n",
    "\n",
    "# Training time\n",
    "t0 = time.time()\n",
    "lr.fit(X_train_ndarray, y_train_ndarray)\n",
    "print(\"[sklearn] Training time (s) with scikit-learn (no GPU support):  {0:.2f}\".format(time.time()-t0))\n",
    "\n",
    "pred = lr.predict_proba(X_test)[:,1]\n",
    "\n",
    "from pai4sk.metrics import average_precision_score\n",
    "acc_snap = average_precision_score(y_test, pred)\n",
    "print(\"[sklearn] Average Precision Score :   {:.4f}\".format(acc_snap))"
   ]
  },
  {
   "cell_type": "markdown",
   "metadata": {},
   "source": [
    "### SVM using pai4sk"
   ]
  },
  {
   "cell_type": "code",
   "execution_count": 7,
   "metadata": {},
   "outputs": [
    {
     "name": "stdout",
     "output_type": "stream",
     "text": [
      "[pai4sk] Training time (s):  0.22\n",
      "[pai4sk] Accuracy: 0.885\n"
     ]
    }
   ],
   "source": [
    "# Create a SVM instance from pai4sk explicit call\n",
    "from pai4sk import SupportVectorMachine\n",
    "svm = SupportVectorMachine(use_gpu=True, num_threads=num_threads, \n",
    "                           class_weight=None, device_ids=[0], \n",
    "                           regularizer=2, fit_intercept=False)\n",
    "\n",
    "# Training\n",
    "t0 = time.time()\n",
    "svm.fit(X_train, y_train)\n",
    "print(\"[pai4sk] Training time (s):  {:.2f}\".format(time.time()-t0))\n",
    "\n",
    "\n",
    "# Inference\n",
    "pred = svm.predict(X_test)\n",
    "\n",
    "# Evaluate accuracy on test set\n",
    "from pai4sk.metrics import accuracy_score\n",
    "acc_snap = accuracy_score(y_test, pred)\n",
    "print(\"[pai4sk] Accuracy: {:.3f}\".format(acc_snap))\n",
    "\n",
    "# Inference\n",
    "pred = svm.decision_function(X_test)"
   ]
  },
  {
   "cell_type": "markdown",
   "metadata": {},
   "source": [
    "### SVM using ScikitLearn"
   ]
  },
  {
   "cell_type": "code",
   "execution_count": 8,
   "metadata": {},
   "outputs": [
    {
     "name": "stderr",
     "output_type": "stream",
     "text": [
      "/mnt/pai/home/choudary/anaconda3/envs/powerai_env2/lib/python3.6/site-packages/pai4sk/utils/validation.py:761: DataConversionWarning: A column-vector y was passed when a 1d array was expected. Please change the shape of y to (n_samples, ), for example using ravel().\n",
      "  y = column_or_1d(y, warn=True)\n"
     ]
    },
    {
     "name": "stdout",
     "output_type": "stream",
     "text": [
      "[sklearn.svm] Training time (s):  5.71\n",
      "[sklearn.svm] Accuracy: 0.890\n"
     ]
    }
   ],
   "source": [
    "#This is another way of import\n",
    "\n",
    "# Create a SVM instance from pai4sk implicit call\n",
    "from pai4sk.svm import LinearSVCSklearn as SupportVectorMachine \n",
    "svm = SupportVectorMachine(class_weight = None, fit_intercept=False)\n",
    "\n",
    "# Training\n",
    "t0 = time.time()\n",
    "svm.fit(X_train, y_train)\n",
    "print(\"[sklearn.svm] Training time (s):  {:.2f}\".format(time.time()-t0))\n",
    "\n",
    "\n",
    "# Inference\n",
    "pred = svm.predict(X_test)\n",
    "\n",
    "\n",
    "# Evaluate accuracy on test set\n",
    "from pai4sk.metrics import accuracy_score\n",
    "acc_snap = accuracy_score(y_test, pred)\n",
    "print(\"[sklearn.svm] Accuracy: {:.3f}\".format(acc_snap))\n",
    "\n",
    "# Inference\n",
    "pred = svm.decision_function(X_test)\n"
   ]
  },
  {
   "cell_type": "markdown",
   "metadata": {},
   "source": [
    "### Ridge Regression using pai4sk"
   ]
  },
  {
   "cell_type": "code",
   "execution_count": 9,
   "metadata": {},
   "outputs": [
    {
     "name": "stdout",
     "output_type": "stream",
     "text": [
      "SnapML: Default values for these parameters are modified for 'snapml' solver: max_iter\n"
     ]
    },
    {
     "name": "stderr",
     "output_type": "stream",
     "text": [
      "/mnt/pai/home/choudary/anaconda3/envs/powerai_env2/lib/python3.6/site-packages/pai4sk/_sml/solvers/ridge.py:356: UserWarning: SnapML: Default solver is set to 'snapml'. Specify a solver to silence this warning.\n",
      "  warnings.warn(\"SnapML: Default solver is set to 'snapml'. \"\n",
      "/mnt/pai/home/choudary/anaconda3/envs/powerai_env2/lib/python3.6/site-packages/pai4sk/_sml/solvers/ridge.py:371: UserWarning: SnapML: Default values for these parameters are modified for 'snapml' solver: max_iter\n",
      "  warnings.warn(warnMsg, UserWarning)\n"
     ]
    },
    {
     "name": "stdout",
     "output_type": "stream",
     "text": [
      "[pai4sk.lmodel] Training time (s):  0.92\n",
      "[pai4sk.lmodel] Mean Squared Error :   0.4459\n"
     ]
    }
   ],
   "source": [
    "# Import RidgeRegression from pai4sk.linear_model \n",
    "from pai4sk.linear_model import Ridge\n",
    "Ridge = Ridge(use_gpu=True, device_ids=[0],\n",
    "                        num_threads=num_threads,\n",
    "                        fit_intercept=False, dual=True, tol=0.001)\n",
    "\n",
    "# Training time\n",
    "t0 = time.time()\n",
    "Ridge.fit(X_train, y_train)\n",
    "print(\"[pai4sk.lmodel] Training time (s):  {0:.2f}\".format(time.time()-t0))\n",
    "\n",
    "# Inference\n",
    "pred = Ridge.predict(X_test)\n",
    "\n",
    "from pai4sk.metrics import mean_squared_error\n",
    "mse = mean_squared_error(y_test, pred)\n",
    "print(\"[pai4sk.lmodel] Mean Squared Error :   {:.4f}\".format(mse))\n"
   ]
  },
  {
   "cell_type": "markdown",
   "metadata": {},
   "source": [
    "### Ridge Regression using ScikitLearn"
   ]
  },
  {
   "cell_type": "code",
   "execution_count": 10,
   "metadata": {},
   "outputs": [
    {
     "name": "stdout",
     "output_type": "stream",
     "text": [
      "[sklearn] Training time (s):  6.62\n",
      "[sklearn] Mean Squared Error :   0.4458\n"
     ]
    }
   ],
   "source": [
    "# Import sklearn's RidgeRegression from pai4sk module directly\n",
    "from pai4sk.linear_model import RidgeSklearn as Ridge\n",
    "Ridge = Ridge(fit_intercept=False, \n",
    "                        random_state=42)\n",
    "\n",
    "# Training time\n",
    "t0 = time.time()\n",
    "Ridge.fit(X_train_ndarray, y_train_ndarray)\n",
    "print(\"[sklearn] Training time (s):  {0:.2f}\".format(time.time()-t0))\n",
    "\n",
    "pred = Ridge.predict(X_test)\n",
    "\n",
    "from pai4sk.metrics import mean_squared_error\n",
    "mse = mean_squared_error(y_test, pred)\n",
    "print(\"[sklearn] Mean Squared Error :   {:.4f}\".format(mse))"
   ]
  },
  {
   "cell_type": "markdown",
   "metadata": {},
   "source": [
    "### Ridge Regression using pai4sk"
   ]
  },
  {
   "cell_type": "code",
   "execution_count": 11,
   "metadata": {},
   "outputs": [
    {
     "name": "stderr",
     "output_type": "stream",
     "text": [
      "/mnt/pai/home/choudary/anaconda3/envs/powerai_env2/lib/python3.6/site-packages/pai4sk/_sml/solvers/coordinate_descent.py:335: UserWarning: SnapML: Default solver is set to 'snapml'.\n",
      "  warnings.warn(\"SnapML: Default solver is set to 'snapml'.\")\n",
      "/mnt/pai/home/choudary/anaconda3/envs/powerai_env2/lib/python3.6/site-packages/pai4sk/_sml/solvers/coordinate_descent.py:344: UserWarning: SnapML: Default values for these parameters are modified for 'snapml' solver: max_iter\n",
      "  warnings.warn(warnMsg, UserWarning)\n"
     ]
    },
    {
     "name": "stdout",
     "output_type": "stream",
     "text": [
      "[pai4sk.lmodel] Training time (s):  0.66\n",
      "[pai4sk.lmodel] Mean Squared Error :   0.4503\n"
     ]
    }
   ],
   "source": [
    "# Import LassoRegression from pai4sk.linear_model                                                                                                                      \n",
    "from pai4sk.linear_model import Lasso\n",
    "Lasso = Lasso(use_gpu=True, device_ids=[0],\n",
    "                        num_threads=num_threads,\n",
    "                        fit_intercept=False,tol=0.001)\n",
    "\n",
    "# Training time                                                                                                                                                        \n",
    "t0 = time.time()\n",
    "Lasso.fit(X_train, y_train)\n",
    "print(\"[pai4sk.lmodel] Training time (s):  {0:.2f}\".format(time.time()-t0))\n",
    "\n",
    "# Inference                                                                                                                                                            \n",
    "pred = Lasso.predict(X_test)\n",
    "\n",
    "from pai4sk.metrics import mean_squared_error\n",
    "mse = mean_squared_error(y_test, pred)\n",
    "print(\"[pai4sk.lmodel] Mean Squared Error :   {:.4f}\".format(mse))"
   ]
  },
  {
   "cell_type": "markdown",
   "metadata": {},
   "source": [
    "### Lasso Regression using pai4sk"
   ]
  },
  {
   "cell_type": "code",
   "execution_count": 12,
   "metadata": {},
   "outputs": [
    {
     "name": "stderr",
     "output_type": "stream",
     "text": [
      "/mnt/pai/home/choudary/anaconda3/envs/powerai_env2/lib/python3.6/site-packages/pai4sk/_sml/solvers/coordinate_descent.py:335: UserWarning: SnapML: Default solver is set to 'snapml'.\n",
      "  warnings.warn(\"SnapML: Default solver is set to 'snapml'.\")\n",
      "/mnt/pai/home/choudary/anaconda3/envs/powerai_env2/lib/python3.6/site-packages/pai4sk/_sml/solvers/coordinate_descent.py:344: UserWarning: SnapML: Default values for these parameters are modified for 'snapml' solver: max_iter\n",
      "  warnings.warn(warnMsg, UserWarning)\n"
     ]
    },
    {
     "name": "stdout",
     "output_type": "stream",
     "text": [
      "[pai4sk.lmodel] Training time (s):  0.61\n",
      "[pai4sk.lmodel] Mean Squared Error :   0.4503\n"
     ]
    }
   ],
   "source": [
    "from pai4sk.linear_model import Lasso\n",
    "Lasso = Lasso(use_gpu=True, device_ids=[0],\n",
    "                        num_threads=num_threads,\n",
    "                        fit_intercept=False, tol=0.001)\n",
    "\n",
    "# Training time                                                                                                                                                        \n",
    "t0 = time.time()\n",
    "Lasso.fit(X_train, y_train)\n",
    "print(\"[pai4sk.lmodel] Training time (s):  {0:.2f}\".format(time.time()-t0))\n",
    "\n",
    "# Inference                                                                                                                                                            \n",
    "pred = Lasso.predict(X_test)\n",
    "\n",
    "from pai4sk.metrics import mean_squared_error\n",
    "mse = mean_squared_error(y_test, pred)\n",
    "print(\"[pai4sk.lmodel] Mean Squared Error :   {0:.4f}\".format(mse))\n"
   ]
  },
  {
   "cell_type": "markdown",
   "metadata": {},
   "source": [
    "### Lasso Regression using ScikitLearn"
   ]
  },
  {
   "cell_type": "code",
   "execution_count": 13,
   "metadata": {},
   "outputs": [
    {
     "name": "stdout",
     "output_type": "stream",
     "text": [
      "[sklearn] Training time (s):  0.58\n",
      "[sklearn] Mean Squared Error :   1.0000\n"
     ]
    }
   ],
   "source": [
    "# Import sklearn's LassoRegression from pai4sk module directly\n",
    "from pai4sk.linear_model import LassoSklearn as Lasso\n",
    "Lasso = Lasso(fit_intercept=False, \n",
    "                        random_state=42)\n",
    "\n",
    "# Training time\n",
    "t0 = time.time()\n",
    "Lasso.fit(X_train_ndarray, y_train_ndarray)\n",
    "print(\"[sklearn] Training time (s):  {0:.2f}\".format(time.time()-t0))\n",
    "\n",
    "pred = Lasso.predict(X_test)\n",
    "\n",
    "from pai4sk.metrics import mean_squared_error\n",
    "mse = mean_squared_error(y_test, pred)\n",
    "print(\"[sklearn] Mean Squared Error :   {:.4f}\".format(mse))"
   ]
  },
  {
   "cell_type": "code",
   "execution_count": null,
   "metadata": {},
   "outputs": [],
   "source": []
  }
 ],
 "metadata": {
  "kernelspec": {
   "display_name": "Python 3",
   "language": "python",
   "name": "python3"
  },
  "language_info": {
   "codemirror_mode": {
    "name": "ipython",
    "version": 3
   },
   "file_extension": ".py",
   "mimetype": "text/x-python",
   "name": "python",
   "nbconvert_exporter": "python",
   "pygments_lexer": "ipython3",
   "version": "3.6.8"
  }
 },
 "nbformat": 4,
 "nbformat_minor": 2
}
